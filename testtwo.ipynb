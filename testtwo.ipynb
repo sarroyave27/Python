{
 "cells": [
  {
   "cell_type": "markdown",
   "metadata": {},
   "source": []
  },
  {
   "cell_type": "code",
   "execution_count": 1,
   "metadata": {},
   "outputs": [
    {
     "name": "stdout",
     "output_type": "stream",
     "text": [
      "52525\n"
     ]
    }
   ],
   "source": [
    "print(\"52525\")"
   ]
  },
  {
   "cell_type": "code",
   "execution_count": 5,
   "metadata": {},
   "outputs": [
    {
     "name": "stdout",
     "output_type": "stream",
     "text": [
      "52525\n"
     ]
    }
   ],
   "source": [
    "if 5 > 2:\n",
    "    print(\"52525\")"
   ]
  },
  {
   "cell_type": "code",
   "execution_count": 11,
   "metadata": {},
   "outputs": [
    {
     "name": "stdout",
     "output_type": "stream",
     "text": [
      "<class 'float'>\n",
      "Number Type Variable\n"
     ]
    }
   ],
   "source": [
    "x = float(23)\n",
    "print(type(x))\n",
    "\n",
    "g, d, h = \"Number\", \"Type\", \"Variable\"\n",
    "\n",
    "print(g,d,h)"
   ]
  },
  {
   "cell_type": "code",
   "execution_count": 14,
   "metadata": {},
   "outputs": [
    {
     "name": "stdout",
     "output_type": "stream",
     "text": [
      "Grey Olive Orange\n"
     ]
    }
   ],
   "source": [
    "colors = [\"Grey\", \"Olive\", \"Orange\"]\n",
    "\n",
    "k, j, l = colors\n",
    "\n",
    "print(k,j,l)"
   ]
  }
 ],
 "metadata": {
  "kernelspec": {
   "display_name": "Python 3",
   "language": "python",
   "name": "python3"
  },
  "language_info": {
   "codemirror_mode": {
    "name": "ipython",
    "version": 3
   },
   "file_extension": ".py",
   "mimetype": "text/x-python",
   "name": "python",
   "nbconvert_exporter": "python",
   "pygments_lexer": "ipython3",
   "version": "3.12.0"
  }
 },
 "nbformat": 4,
 "nbformat_minor": 2
}
